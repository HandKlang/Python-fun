{
 "cells": [
  {
   "cell_type": "code",
   "execution_count": 9,
   "id": "02875d34-8b6f-4365-8a4d-cd648eff5dba",
   "metadata": {},
   "outputs": [
    {
     "name": "stdout",
     "output_type": "stream",
     "text": [
      "+4912345678\n",
      "2\n"
     ]
    }
   ],
   "source": [
    "# class Encapsulation:\n",
    "# Daten kapseln (\"pseudo-privat\" machen) -> Einträge können dann nur mit der add oder get - Methode erreicht werden\n",
    "\n",
    "class PhoneBook():\n",
    "    \n",
    "    def __init__(self):\n",
    "        self.__entries = {}\n",
    "        \n",
    "    def add(self, name, phone_number):\n",
    "        self.__entries[name] = phone_number\n",
    "        \n",
    "    def get(self, name):\n",
    "        if name in self.__entries:\n",
    "            return self.__entries[name]\n",
    "        else:\n",
    "            return None\n",
    "\n",
    "    def __len__(self):\n",
    "        return len(self.__entries)\n",
    "\n",
    "book = PhoneBook()\n",
    "book.add(\"Mustermann\", \"+4912345678\")\n",
    "book.add(\"Müller\", \"+49123456789\")\n",
    "\n",
    "\n",
    "print(book.get(\"Mustermann\"))\n",
    "print(len(book))"
   ]
  },
  {
   "cell_type": "code",
   "execution_count": 10,
   "id": "4371677f-f9de-4aba-b9ce-5cbd16988c53",
   "metadata": {},
   "outputs": [],
   "source": [
    "# Inheritance:\n",
    "# -> Vererbung von Eigenschaften einer Klasse\n",
    "# (Student -> WorkingStudent)\n",
    "\n",
    "class Student():\n",
    "    def __init__(self, firstname, surname):\n",
    "        self.firstname = firstname\n",
    "        self.surname = surname\n",
    "\n",
    "    def name(self):\n",
    "        return self.firstname + \" \" + self.surname"
   ]
  },
  {
   "cell_type": "code",
   "execution_count": 11,
   "id": "a496a125-063d-4711-96ae-244d6d91501c",
   "metadata": {},
   "outputs": [],
   "source": [
    "class WorkingStudent(Student):\n",
    "    \n",
    "    def __init__(self, firstname, surname, company):\n",
    " \n",
    "        super().__init__(firstname, surname)\n",
    "        self.company = company\n",
    "    \n",
    "    def name(self):\n",
    "        return super().name() + \" (\" + self.company + \")\""
   ]
  },
  {
   "cell_type": "code",
   "execution_count": 12,
   "id": "dde63b4f-3bcd-458b-9130-096384eb93fe",
   "metadata": {},
   "outputs": [
    {
     "name": "stdout",
     "output_type": "stream",
     "text": [
      "Max Müller (ABCDEF GmbH)\n",
      "Monika Mustermann\n",
      "Erik Müller\n",
      "Franziska Mustermann (XYZXYZ GmbH)\n"
     ]
    }
   ],
   "source": [
    "# Die verschiedenen name()-Methoden liefern verschiedene Ausgaben, obwohl mit dem selben Namen auf sie zugegriffen wird:\n",
    "\n",
    "students = [\n",
    "    WorkingStudent(\"Max\", \"Müller\", \"ABCDEF GmbH\"),\n",
    "    Student(\"Monika\", \"Mustermann\"),\n",
    "    Student(\"Erik\", \"Müller\"),\n",
    "    WorkingStudent(\"Franziska\", \"Mustermann\", \"XYZXYZ GmbH\")\n",
    "]\n",
    "\n",
    "for student in students:\n",
    "    print(student.name())"
   ]
  },
  {
   "cell_type": "code",
   "execution_count": null,
   "id": "2b79bf4f-007d-482e-902a-8321c544a954",
   "metadata": {},
   "outputs": [],
   "source": []
  }
 ],
 "metadata": {
  "kernelspec": {
   "display_name": "Python [conda env:base] *",
   "language": "python",
   "name": "conda-base-py"
  },
  "language_info": {
   "codemirror_mode": {
    "name": "ipython",
    "version": 3
   },
   "file_extension": ".py",
   "mimetype": "text/x-python",
   "name": "python",
   "nbconvert_exporter": "python",
   "pygments_lexer": "ipython3",
   "version": "3.12.7"
  }
 },
 "nbformat": 4,
 "nbformat_minor": 5
}
