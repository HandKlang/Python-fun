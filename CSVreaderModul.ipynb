{
 "cells": [
  {
   "cell_type": "code",
   "execution_count": 1,
   "id": "12466a12-131d-41a2-b22c-4c262ffbc7da",
   "metadata": {},
   "outputs": [
    {
     "name": "stdout",
     "output_type": "stream",
     "text": [
      "['MÃ¼ller', 'Hallo Welt', 'Hallo;Welt']\n",
      "['MÃ¼ller', 'Hallo Welt', 'Hallo-Welt']\n"
     ]
    }
   ],
   "source": [
    "# import csv:\n",
    "# importiert CSV Tabellen und gibt sie als Zeilen zur Verwendung aus\n",
    "    # delimiter: Trennzeichen im CSV-Dokument\n",
    "    # quotechar: wenn ein zu trennender Teil den delimiter in sich trägt (zB: ;) \n",
    "        # -> muss der quotechar dafür sorgen, dass dieser Teil in der Zeile nicht in \"\" ausgegeben wird\n",
    "\n",
    "import csv\n",
    "with open(\"fromexcel.csv\", newline='') as file:\n",
    "    csv_file = csv.reader(file, delimiter=\";\", quotechar='\"')\n",
    "    for line in csv_file:\n",
    "        print(line)"
   ]
  },
  {
   "cell_type": "code",
   "execution_count": null,
   "id": "9fcf49aa-36dc-4945-ae7d-d1dd57200ece",
   "metadata": {},
   "outputs": [],
   "source": []
  }
 ],
 "metadata": {
  "kernelspec": {
   "display_name": "Python [conda env:base] *",
   "language": "python",
   "name": "conda-base-py"
  },
  "language_info": {
   "codemirror_mode": {
    "name": "ipython",
    "version": 3
   },
   "file_extension": ".py",
   "mimetype": "text/x-python",
   "name": "python",
   "nbconvert_exporter": "python",
   "pygments_lexer": "ipython3",
   "version": "3.12.7"
  }
 },
 "nbformat": 4,
 "nbformat_minor": 5
}
