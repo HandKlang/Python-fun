{
 "cells": [
  {
   "cell_type": "code",
   "execution_count": 1,
   "id": "05fe626c-ac63-40bb-b791-9df182270a88",
   "metadata": {},
   "outputs": [
    {
     "name": "stdout",
     "output_type": "stream",
     "text": [
      "['Zaubersäge', \"Rubik's Cube\", 'Wunderkekse', 'Trickarten', 'leer']\n"
     ]
    }
   ],
   "source": [
    "# Die Funktion (add_shelf) aktualisiert die Liste Regal, und der neue Artikel wird in das erste leere Regalfach eingeräumt.\n",
    "# \"leer\" wird ersetzt durch product\n",
    "\n",
    "product = \"Rubik's Cube\"\n",
    "Regal = [\"Zaubersäge\", \"leer\", \"Wunderkekse\", \"Trickarten\", \"leer\"]\n",
    "\n",
    "def add_shelf(article):\n",
    "    \n",
    "    for check in range(0, len(Regal)):\n",
    "        \n",
    "        if Regal[check] == \"leer\":\n",
    "            Regal[check] = article\n",
    "            break\n",
    "            \n",
    "add_shelf(product)\n",
    "print(Regal)"
   ]
  },
  {
   "cell_type": "code",
   "execution_count": 23,
   "id": "75417619-a9f4-4e26-af16-cedcd2f03ef8",
   "metadata": {},
   "outputs": [
    {
     "name": "stdout",
     "output_type": "stream",
     "text": [
      "['Zaubersäge']\n",
      "['Trickarten']\n"
     ]
    }
   ],
   "source": [
    "# Das z.B. vorletzte und erste product in der liste ausgeben (list slicing)\n",
    "\n",
    "print(Regal[:1])\n",
    "print(Regal[-2:-1])"
   ]
  },
  {
   "cell_type": "code",
   "execution_count": 27,
   "id": "6176888d-3109-4f31-9f68-f67eefe6c1b4",
   "metadata": {},
   "outputs": [
    {
     "name": "stdout",
     "output_type": "stream",
     "text": [
      "[10, 12, 11, 10, 4]\n"
     ]
    }
   ],
   "source": [
    "# Eine neue Liste erstellen mit veränderten Werten der ersten Liste (list comprehension)\n",
    "# z.B. wie viele Buchstaben hat jedes product im Regal?\n",
    "\n",
    "Buchstaben = [len(l) for l in Regal]\n",
    "print(Buchstaben)"
   ]
  },
  {
   "cell_type": "code",
   "execution_count": 50,
   "id": "2ccf69c3-dc0e-4356-8351-7e2553a00f90",
   "metadata": {},
   "outputs": [
    {
     "name": "stdout",
     "output_type": "stream",
     "text": [
      "Franz 43 Staplerfahrer\n",
      "Hans 50 Technik\n",
      "Peter 58 Produktion\n"
     ]
    }
   ],
   "source": [
    "# Liste von toupels\n",
    "\n",
    "MA = [(\"Franz\", 43, \"Staplerfahrer\"), (\"Hans\", 50, \"Technik\"), (\"Peter\", 58, \"Produktion\")]\n",
    "\n",
    "for name, alter, job in MA:\n",
    "    print(name, alter, job)"
   ]
  },
  {
   "cell_type": "code",
   "execution_count": 94,
   "id": "8abee71f-a343-4d76-934c-441e4684e8e1",
   "metadata": {},
   "outputs": [
    {
     "name": "stdout",
     "output_type": "stream",
     "text": [
      "Der am meisten verwendete Name ist: James mit einer Anzahl von: 4957166\n"
     ]
    }
   ],
   "source": [
    "# Dictionaries:\n",
    "# Berechnung, welcher Name insg. am meisten zwischen 910 und 2014 in den USA verwendet wurde:\n",
    "\n",
    "Name_count = {}\n",
    "\n",
    "with open(\"../data/names.csv\",\"r\") as file:\n",
    "    for line in file:\n",
    "    \n",
    "        if line.split(\",\")[2] == \"Year\":\n",
    "            continue\n",
    "        if line.split(\",\")[1] not in Name_count:\n",
    "            Name_count[line.split(\",\")[1]] = int(line.split(\",\")[5])\n",
    "        elif line.split(\",\")[1] in Name_count:\n",
    "            Name_count[line.split(\",\")[1]] = Name_count[line.split(\",\")[1]] + int(line.split(\",\")[5])\n",
    "        else:\n",
    "            break\n",
    "        \n",
    "max_anzahl = 0\n",
    "max_name = \"tbd\"\n",
    "\n",
    "for name, anzahl in Name_count.items():\n",
    "    if max_anzahl < anzahl:\n",
    "        max_anzahl = anzahl\n",
    "        max_name = name\n",
    "\n",
    "print(\"Der am meisten verwendete Name ist: \" + str(max_name) + \" mit einer Anzahl von: \" + str(max_anzahl))\n"
   ]
  },
  {
   "cell_type": "code",
   "execution_count": null,
   "id": "255eab19-2a48-4ecf-892a-b8289643efd6",
   "metadata": {},
   "outputs": [],
   "source": []
  }
 ],
 "metadata": {
  "kernelspec": {
   "display_name": "Python [conda env:base] *",
   "language": "python",
   "name": "conda-base-py"
  },
  "language_info": {
   "codemirror_mode": {
    "name": "ipython",
    "version": 3
   },
   "file_extension": ".py",
   "mimetype": "text/x-python",
   "name": "python",
   "nbconvert_exporter": "python",
   "pygments_lexer": "ipython3",
   "version": "3.12.7"
  }
 },
 "nbformat": 4,
 "nbformat_minor": 5
}
