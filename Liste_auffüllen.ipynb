{
 "cells": [
  {
   "cell_type": "code",
   "execution_count": 3,
   "id": "05fe626c-ac63-40bb-b791-9df182270a88",
   "metadata": {},
   "outputs": [
    {
     "name": "stdout",
     "output_type": "stream",
     "text": [
      "['Zaubersäge', 'leer', 'Wunderkekse', 'Trickarten', 'leer']\n"
     ]
    }
   ],
   "source": [
    "# Die Funktion aktualisiert die Liste shelf, und der neue Artikel wird in das erste leere Regalfach eingeräumt.\n",
    "# \"leer\" wird ersetzt durch product\n",
    "\n",
    "product = \"Rubik's Cube\"\n",
    "Regal = [\"Zaubersäge\", \"leer\", \"Wunderkekse\", \"Trickarten\", \"leer\"]\n",
    "\n",
    "def add_shelf(article):\n",
    "    count = -1\n",
    "    for check in Regal:\n",
    "        count = count + 1\n",
    "        if check == \"leer\":\n",
    "            \n",
    "            shelf.pop(count)\n",
    "            shelf.insert(count, str(article))\n",
    "            break\n",
    "            \n",
    "add_shelf(product)\n",
    "\n",
    "print(Regal)"
   ]
  },
  {
   "cell_type": "code",
   "execution_count": null,
   "id": "75417619-a9f4-4e26-af16-cedcd2f03ef8",
   "metadata": {},
   "outputs": [],
   "source": []
  }
 ],
 "metadata": {
  "kernelspec": {
   "display_name": "Python [conda env:base] *",
   "language": "python",
   "name": "conda-base-py"
  },
  "language_info": {
   "codemirror_mode": {
    "name": "ipython",
    "version": 3
   },
   "file_extension": ".py",
   "mimetype": "text/x-python",
   "name": "python",
   "nbconvert_exporter": "python",
   "pygments_lexer": "ipython3",
   "version": "3.12.7"
  }
 },
 "nbformat": 4,
 "nbformat_minor": 5
}
